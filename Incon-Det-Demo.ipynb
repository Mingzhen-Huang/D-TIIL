{
 "cells": [
  {
   "cell_type": "code",
   "execution_count": null,
   "id": "87f88ff2",
   "metadata": {},
   "outputs": [],
   "source": [
    "import torch\n",
    "from PIL import Image\n",
    "from pipeline import DTIILPipeline\n",
    "\n",
    "dim=512\n",
    "torch_device = \"cuda:0\" if torch.cuda.is_available() else \"cpu\"\n",
    "model_id = \"runwayml/stable-diffusion-v1-5\"\n",
    "\n",
    "im = Image.open('./asset/exampe.jpg').resize((dim,dim)).convert(\"RGB\") ; im\n"
   ]
  },
  {
   "cell_type": "code",
   "execution_count": null,
   "id": "a7a96e59",
   "metadata": {},
   "outputs": [],
   "source": [
    "pipe = DTIILPipeline.from_pretrained(\n",
    "    model_id, safety_checker=None\n",
    ").to(torch_device)\n",
    "prompt = 'Cat shown recovering will be adopted by a veterinary technician'\n"
   ]
  },
  {
   "cell_type": "code",
   "execution_count": null,
   "id": "090e3a86",
   "metadata": {},
   "outputs": [],
   "source": [
    "pipe.to(torch_device)\n",
    "res = pipe(prompt, im, save_dir=None, num_noise_pred=10, seed=0, diffusion_model_learning_rate=5e-6, embedding_learning_rate=0.002,\n",
    "    model_fine_tuning_optimization_steps=0, text_embedding_optimization_steps=500, threshold=0.15)\n",
    "\n",
    "m=res['final_mask'];m"
   ]
  },
  {
   "cell_type": "code",
   "execution_count": null,
   "id": "0f505c25",
   "metadata": {},
   "outputs": [],
   "source": []
  }
 ],
 "metadata": {
  "kernelspec": {
   "display_name": "Python 3 (ipykernel)",
   "language": "python",
   "name": "python3"
  },
  "language_info": {
   "codemirror_mode": {
    "name": "ipython",
    "version": 3
   },
   "file_extension": ".py",
   "mimetype": "text/x-python",
   "name": "python",
   "nbconvert_exporter": "python",
   "pygments_lexer": "ipython3",
   "version": "3.7.16"
  }
 },
 "nbformat": 4,
 "nbformat_minor": 5
}
